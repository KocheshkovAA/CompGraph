{
 "cells": [
  {
   "cell_type": "markdown",
   "id": "8e764a47",
   "metadata": {},
   "source": [
    "6. Сформировать на плоскости составную кривую Безье третьей степени на основе задающей ломаной, определяемой 10 или большим количеством точек. Обеспечить редактирование координат точек задающей ломаной с перерисовкой сплайна Безье."
   ]
  },
  {
   "cell_type": "code",
   "execution_count": 1,
   "id": "b1ca453f",
   "metadata": {},
   "outputs": [],
   "source": [
    "import tkinter as tk\n",
    "from math import sin, cos\n",
    "import math\n",
    "import numpy as np\n",
    "from itertools import *\n",
    "import matplotlib.pyplot as plt\n",
    "import random \n",
    "import time\n",
    "from tkinter import *"
   ]
  },
  {
   "cell_type": "code",
   "execution_count": 2,
   "id": "92154f48",
   "metadata": {},
   "outputs": [],
   "source": [
    "height = 800\n",
    "width = 800\n"
   ]
  },
  {
   "cell_type": "code",
   "execution_count": 3,
   "id": "f42d5816",
   "metadata": {},
   "outputs": [],
   "source": [
    "def shift(num = 4, dist = height/2):\n",
    "    m = np.matrix([[dist, dist, 0, 0]])\n",
    "    for i in range(num-1):\n",
    "        m = np.vstack([m, [dist, dist, 0, 0]])\n",
    "        \n",
    "    return m"
   ]
  },
  {
   "cell_type": "code",
   "execution_count": 4,
   "id": "82b553ac",
   "metadata": {},
   "outputs": [],
   "source": [
    "def Ty(Q):\n",
    "    Q = math.radians(Q)\n",
    "    return np.matrix([[cos(Q), 0, -sin(Q), 0],\n",
    "                [0, 1, 0, 0],\n",
    "                [sin(Q), 0, cos(Q), 0],\n",
    "                [0, 0, 0, 1]])\n",
    "\n",
    "def Tx(Q):\n",
    "    Q = math.radians(Q)\n",
    "    return np.matrix([[1, 0, 0, 0],\n",
    "                [0, cos(Q), sin(Q), 0],\n",
    "                [0, -sin(Q), cos(Q), 0],\n",
    "                [0, 0, 0, 1]])\n",
    "\n",
    "def Tz(Q):\n",
    "    Q = math.radians(Q)\n",
    "    return np.matrix([[cos(Q), sin(Q), 0, 0],\n",
    "                [-sin(Q), cos(Q), 0, 0],\n",
    "                [0, 0, 1, 0],\n",
    "                [0, 0, 0, 1]])\n",
    "\n"
   ]
  },
  {
   "cell_type": "code",
   "execution_count": 5,
   "id": "7848f983",
   "metadata": {},
   "outputs": [],
   "source": [
    "def osY_matrix(length = 300, arrow = 10, period = 20):\n",
    "    m = np.matrix([[0, 0, 0, 1],\n",
    "               [0, length, 0, 1],\n",
    "               [-10, length-arrow, 0, 1],\n",
    "               [10, length-arrow, 0, 1],])\n",
    "    \n",
    "    for i in range(1,round(length//period)):\n",
    "        m = np.vstack([m, [-arrow/2, i*period, 0, 1]])\n",
    "        m = np.vstack([m, [arrow/2, i*period, 0, 1]])\n",
    "        \n",
    "    return m\n"
   ]
  },
  {
   "cell_type": "code",
   "execution_count": 6,
   "id": "505d79dc",
   "metadata": {},
   "outputs": [],
   "source": [
    "def draw_os(y, canvas, name, length = height/2):\n",
    "    canvas.create_line(y[0, 0],y[0, 1],y[1, 0],y[1, 1],width=2,fill=\"grey\")\n",
    "    canvas.create_line(y[2, 0],y[2, 1],y[1, 0],y[1, 1],width=2,fill=\"grey\")\n",
    "    canvas.create_line(y[3, 0],y[3, 1],y[1, 0],y[1, 1],width=2,fill=\"grey\")\n",
    "       \n",
    "    for i in range(4, len(y), 2):\n",
    "        canvas.create_line(y[i, 0],y[i, 1],y[i+1, 0],y[i+1, 1],width=1,fill=\"grey\")\n",
    "        canvas.create_text(y[i, 0]-4, y[i, 1], text=str(int((i-2)/2)))\n",
    "        \n",
    "    canvas.create_text(y[1, 0]-15, y[1, 1], text = name, font=(\"DejavuSansLight\", 15,'bold'),fill=\"grey\")\n",
    "    \n",
    "    \n",
    "    \n",
    "    \n",
    "    "
   ]
  },
  {
   "cell_type": "code",
   "execution_count": 7,
   "id": "4be1cc68",
   "metadata": {},
   "outputs": [],
   "source": [
    "def draw_XYZ(canvas, length = height/2, period = 20, mode = \"iso\"):\n",
    "    y = osY_matrix(length = length, period = period)\n",
    "    y = y*Tx(180)\n",
    "    \n",
    "    x = y*Tz(90)*Tx(90)\n",
    "    z = x*Ty(90)\n",
    "    y = y*Ty(-45)\n",
    "\n",
    "    x = metric(x, mode)\n",
    "    y = metric(y, mode)\n",
    "    z = metric(z, mode)\n",
    "    \n",
    "    draw_os(y, canvas, 'y', length)\n",
    "    draw_os(x, canvas, 'x', length)\n",
    "    draw_os(z, canvas, 'z', length)\n",
    "    \n",
    "    canvas.create_text(y[0, 0]-8, y[0, 1], text=str(0))\n",
    "    \n",
    "    "
   ]
  },
  {
   "cell_type": "code",
   "execution_count": 8,
   "id": "0aa6cd0f",
   "metadata": {},
   "outputs": [],
   "source": [
    "def metric(obj, mode = \"iso\"):\n",
    "    if mode == 'iso':\n",
    "        return obj*Ty(45)*Tx(35.2) + shift(len(obj))\n",
    "    else:\n",
    "        return obj*Ty(22.208)*Tx(20.705) + shift(len(obj))\n",
    "\n"
   ]
  },
  {
   "cell_type": "code",
   "execution_count": 9,
   "id": "fd29f9fc",
   "metadata": {},
   "outputs": [],
   "source": [
    "def middle_line(p1, p2):\n",
    "    return (p2 + p1)/2\n"
   ]
  },
  {
   "cell_type": "code",
   "execution_count": 10,
   "id": "b5d5dc7c",
   "metadata": {
    "scrolled": true
   },
   "outputs": [],
   "source": [
    "def bez3(u,x):\n",
    "    U = np.matrix([u**3, u**2, u, 1])\n",
    "    M = np.matrix([[-1, 3, -3, 1],\n",
    "                   [3, -6, 3, 0],\n",
    "                   [-3, 3, 0, 0],\n",
    "                   [1, 0, 0, 0]])\n",
    "    return U*M*x\n",
    "    \n",
    "def x_middle_points(x):\n",
    "    x_new = []\n",
    "    for i in range(len(x)):\n",
    "        x_new.append(x[i].tolist()[0])\n",
    "        if (i != 0) & ((i)%2 == 0) & (i+1 < len(x)):\n",
    "            m = middle_line(x[i], x[i+1])\n",
    "            x_new.append(m.tolist()[0])\n",
    "            x_new.append(m.tolist()[0])\n",
    "    \n",
    "    for i in range(4 - len(x_new)%4):\n",
    "        x_new.append(x_new[-1])\n",
    "        \n",
    "    \n",
    "    return np.matrix(x_new)\n",
    "\n",
    "        \n",
    "def bez_u(x, length = 100):\n",
    "    p = [] \n",
    "    \n",
    "    for i in range(0, int(len(x)), 4):\n",
    "        x_i = x[i:i+4]\n",
    "        i -= 1\n",
    "        for j in range(length+1):        \n",
    "            if p == []:\n",
    "                p = (bez3(j/length, x_i))\n",
    "            else:\n",
    "                p = np.vstack([p, (bez3(j/length, x_i))])\n",
    "        \n",
    "    return p\n",
    "    \n",
    "    \n",
    "def draw_bez(p, canvas, x, period = 40, mode = \"iso\"):\n",
    "    p = p*period\n",
    "    p = p*Tx(180)\n",
    "    p = metric(p, mode)\n",
    "    \n",
    "    for i in range(len(p)-1):\n",
    "        canvas.create_line(p[i, 0],p[i, 1],p[i+1, 0],p[i+1, 1],width=2,fill=\"red\")\n",
    "    \n",
    "    r = period/10\n",
    "    x = x*period\n",
    "    x = x*Tx(180)\n",
    "    x = metric(x, mode)\n",
    "    for i in range(len(x)):\n",
    "        canvas.create_oval(x[i, 0]-r, x[i, 1]-r, x[i, 0]+r, x[i, 1]+r)\n",
    "        if i < len(x)-1:\n",
    "            #m = middle_line(x[i], x[i+1]\n",
    "            #canvas.create_oval(m[0, 0]-r, m[0, 1]-r, m[0, 0]+r, m[0, 1]+r)\n",
    "            canvas.create_line(x[i, 0],x[i, 1],x[i+1, 0],x[i+1, 1],width=1,fill=\"gray\", dash=(4, 2))\n",
    "        canvas.create_text(x[i, 0]+12, x[i, 1], text = str(i+1), font=(\"DejavuSansLight\", 15,'bold'))\n",
    "    \n",
    "def rand_x(N = 4, A = 0, B = 9):\n",
    "    X = []\n",
    "    for i in range(N):\n",
    "        x = random.randint(A, B)\n",
    "        y = random.randint(A, B)\n",
    "        z = random.randint(A, B)\n",
    "        X.append([x,y,z,1])\n",
    "        \n",
    "    return np.matrix(X)\n",
    "\n",
    "def do_one_frame(n,x_orig,canvas):\n",
    "    canvas.delete('all')\n",
    "    draw_XYZ(canvas, height/2, period = 50)\n",
    "\n",
    "    x = x_middle_points(x_orig)\n",
    "    p = bez_u(x)\n",
    "\n",
    "    draw_bez(p, canvas, x_orig, period = 50)\n",
    "    #window.after(1000, do_one_frame, n)"
   ]
  },
  {
   "cell_type": "code",
   "execution_count": 11,
   "id": "eb1a30ad",
   "metadata": {},
   "outputs": [],
   "source": [
    "def get_x(n, entry, canvas):\n",
    "    x = []\n",
    "    for i in range(n):\n",
    "        x.append([int(entry[i][0].get()), int(entry[i][1].get()), int(entry[i][2].get()), 1])\n",
    "    print(11)   \n",
    "    do_one_frame(n, np.matrix(x), canvas)\n",
    "    \n",
    "    return x\n",
    "        \n",
    "def insert_x(x, entry, n):\n",
    "    for i in range(n):\n",
    "        entry[i][0].insert(0, str(x[i, 0]))\n",
    "        entry[i][1].insert(0, str(x[i, 1]))\n",
    "        entry[i][2].insert(0, str(x[i, 2]))"
   ]
  },
  {
   "cell_type": "code",
   "execution_count": 12,
   "id": "3b6cbbbd",
   "metadata": {},
   "outputs": [],
   "source": [
    "def main_window(ent):\n",
    "    n = int(ent.get())\n",
    "    x_orig = rand_x(n)\n",
    "    root.destroy()\n",
    "    window = tk.Tk()\n",
    "    window.title('Безье')\n",
    "\n",
    "    canvas = tk.Canvas(window,width=width,height=height,bg=\"white\",\n",
    "              cursor=\"pencil\")\n",
    "    ##########################################\n",
    "\n",
    "\n",
    "    Label(text=\"X\").grid(row=0, column=1,sticky = N)    \n",
    "    Label(text=\"Y\").grid(row=0, column=2,sticky = N) \n",
    "    Label(text=\"Z\").grid(row=0, column=3,sticky = N) \n",
    "\n",
    "    entry = []\n",
    "    for i in range(n):\n",
    "        x = tk.Entry(width=4)\n",
    "        y = tk.Entry(width=4)\n",
    "        z = tk.Entry(width=4)\n",
    "        entry.append([x,y,z])\n",
    "        Label(text=str(i+1)).grid(row=i+1, column=0,sticky = N) \n",
    "        x.grid(row=i+1, column=1,sticky = N)\n",
    "        y.grid(row=i+1, column=2,sticky = N)\n",
    "        z.grid(row=i+1, column=3,sticky = N) \n",
    "        \n",
    "    for i in range(n+2,n+5):\n",
    "        Label(text=' ').grid(row=i+1, column=0,sticky = N)\n",
    "        \n",
    "    insert_x(x_orig, entry, n)\n",
    "    \n",
    "    but = tk.Button(text=\"Изменить\",\n",
    "                 command=lambda: get_x(n, entry, canvas))\n",
    "    \n",
    "    but.grid(row=n+1,column=2,sticky = W)\n",
    "\n",
    "    \n",
    "\n",
    "    do_one_frame(n, x_orig, canvas)\n",
    "    canvas.grid(row=0, column=4, rowspan= n+5)\n",
    "\n",
    "    ############################################\n",
    "    window.mainloop()"
   ]
  },
  {
   "cell_type": "code",
   "execution_count": 13,
   "id": "43005200",
   "metadata": {},
   "outputs": [
    {
     "name": "stderr",
     "output_type": "stream",
     "text": [
      "/tmp/ipykernel_4554/3427979609.py:32: DeprecationWarning: elementwise comparison failed; this will raise an error in the future.\n",
      "  if p == []:\n"
     ]
    },
    {
     "name": "stdout",
     "output_type": "stream",
     "text": [
      "11\n",
      "11\n"
     ]
    }
   ],
   "source": [
    "root = tk.Tk()\n",
    "\n",
    "lbl = Label(text=\"Число точек\")\n",
    "\n",
    "ent = tk.Entry(width=4)\n",
    "\n",
    "btn = tk.Button(root, text=\"Построить\")\n",
    "btn.config(command=lambda: main_window(ent = ent))\n",
    "\n",
    "lbl.pack()\n",
    "ent.pack(padx=120, pady=30)\n",
    "btn.pack(padx=240, pady=30)\n",
    "\n",
    "root.title(\"Безье\")\n",
    "root.mainloop()"
   ]
  },
  {
   "cell_type": "code",
   "execution_count": null,
   "id": "6306c671",
   "metadata": {},
   "outputs": [],
   "source": []
  },
  {
   "cell_type": "code",
   "execution_count": null,
   "id": "5ede6393",
   "metadata": {},
   "outputs": [],
   "source": []
  }
 ],
 "metadata": {
  "kernelspec": {
   "display_name": "Python 3 (ipykernel)",
   "language": "python",
   "name": "python3"
  },
  "language_info": {
   "codemirror_mode": {
    "name": "ipython",
    "version": 3
   },
   "file_extension": ".py",
   "mimetype": "text/x-python",
   "name": "python",
   "nbconvert_exporter": "python",
   "pygments_lexer": "ipython3",
   "version": "3.8.10"
  }
 },
 "nbformat": 4,
 "nbformat_minor": 5
}
