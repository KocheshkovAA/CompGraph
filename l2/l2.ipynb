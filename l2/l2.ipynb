{
 "cells": [
  {
   "cell_type": "markdown",
   "id": "8e764a47",
   "metadata": {},
   "source": [
    "7. Построение диметрической и изометрической проекции заданного\n",
    "объемного тела."
   ]
  },
  {
   "cell_type": "code",
   "execution_count": 1,
   "id": "b1ca453f",
   "metadata": {},
   "outputs": [],
   "source": [
    "import tkinter as tk\n",
    "from math import sin, cos\n",
    "import math\n",
    "import numpy as np\n",
    "from itertools import *\n",
    "import matplotlib.pyplot as plt"
   ]
  },
  {
   "cell_type": "code",
   "execution_count": 2,
   "id": "92154f48",
   "metadata": {},
   "outputs": [],
   "source": [
    "height = 1000\n",
    "width = 1000\n"
   ]
  },
  {
   "cell_type": "code",
   "execution_count": 3,
   "id": "f42d5816",
   "metadata": {},
   "outputs": [],
   "source": [
    "def shift(num = 4, dist = height/2):\n",
    "    m = np.matrix([[dist, dist, 0, 0]])\n",
    "    for i in range(num-1):\n",
    "        m = np.vstack([m, [dist, dist, 0, 0]])\n",
    "        \n",
    "    return m"
   ]
  },
  {
   "cell_type": "code",
   "execution_count": 4,
   "id": "82b553ac",
   "metadata": {},
   "outputs": [],
   "source": [
    "def Ty(Q):\n",
    "    Q = math.radians(Q)\n",
    "    return np.matrix([[cos(Q), 0, -sin(Q), 0],\n",
    "                [0, 1, 0, 0],\n",
    "                [sin(Q), 0, cos(Q), 0],\n",
    "                [0, 0, 0, 1]])\n",
    "\n",
    "def Tx(Q):\n",
    "    Q = math.radians(Q)\n",
    "    return np.matrix([[1, 0, 0, 0],\n",
    "                [0, cos(Q), sin(Q), 0],\n",
    "                [0, -sin(Q), cos(Q), 0],\n",
    "                [0, 0, 0, 1]])\n",
    "\n",
    "def Tz(Q):\n",
    "    Q = math.radians(Q)\n",
    "    return np.matrix([[cos(Q), sin(Q), 0, 0],\n",
    "                [-sin(Q), cos(Q), 0, 0],\n",
    "                [0, 0, 1, 0],\n",
    "                [0, 0, 0, 1]])\n",
    "\n"
   ]
  },
  {
   "cell_type": "code",
   "execution_count": 5,
   "id": "7848f983",
   "metadata": {},
   "outputs": [],
   "source": [
    "def osY_matrix(length = 300, arrow = 10, period = 20):\n",
    "    m = np.matrix([[0, 0, 0, 1],\n",
    "               [0, length, 0, 1],\n",
    "               [-10, length-arrow, 0, 1],\n",
    "               [10, length-arrow, 0, 1],])\n",
    "    \n",
    "    for i in range(1,round(length//period)):\n",
    "        m = np.vstack([m, [-arrow/2, i*period, 0, 1]])\n",
    "        m = np.vstack([m, [arrow/2, i*period, 0, 1]])\n",
    "        \n",
    "    return m\n"
   ]
  },
  {
   "cell_type": "code",
   "execution_count": 6,
   "id": "505d79dc",
   "metadata": {},
   "outputs": [],
   "source": [
    "def draw_os(y, canvas, name, length = height/2):\n",
    "    canvas.create_line(y[0, 0],y[0, 1],y[1, 0],y[1, 1],width=2,fill=\"grey\")\n",
    "    canvas.create_line(y[2, 0],y[2, 1],y[1, 0],y[1, 1],width=2,fill=\"grey\")\n",
    "    canvas.create_line(y[3, 0],y[3, 1],y[1, 0],y[1, 1],width=2,fill=\"grey\")\n",
    "       \n",
    "    for i in range(4,len(y),2):\n",
    "        canvas.create_line(y[i, 0],y[i, 1],y[i+1, 0],y[i+1, 1],width=2,fill=\"grey\")\n",
    "        canvas.create_text(y[i, 0]-4, y[i, 1], text=str(int((i-2)/2)))\n",
    "        \n",
    "    canvas.create_text(y[1, 0]-15, y[1, 1], text = name, font=(\"DejavuSansLight\", 15,'bold'))\n",
    "    \n",
    "    \n",
    "    \n",
    "    \n",
    "    "
   ]
  },
  {
   "cell_type": "code",
   "execution_count": 7,
   "id": "4be1cc68",
   "metadata": {},
   "outputs": [],
   "source": [
    "def draw_XYZ(canvas, length = height/2, period = 20, mode = \"iso\"):\n",
    "    y = osY_matrix(length = length, period = period)\n",
    "    y = y*Tx(180)\n",
    "    \n",
    "    x = y*Tz(90)*Tx(90)\n",
    "    z = x*Ty(90)\n",
    "    y = y*Ty(-45)\n",
    "\n",
    "    x = metric(x, mode)\n",
    "    y = metric(y, mode)\n",
    "    z = metric(z, mode)\n",
    "    \n",
    "    draw_os(y, canvas, 'y', length)\n",
    "    draw_os(x, canvas, 'x', length)\n",
    "    draw_os(z, canvas, 'z', length)\n",
    "    \n",
    "    canvas.create_text(y[0, 0]-8, y[0, 1], text=str(0))\n",
    "    \n",
    "    "
   ]
  },
  {
   "cell_type": "code",
   "execution_count": 8,
   "id": "0aa6cd0f",
   "metadata": {},
   "outputs": [],
   "source": [
    "def metric(obj, mode = \"iso\"):\n",
    "    if mode == 'iso':\n",
    "        return obj*Ty(45)*Tx(35.2) + shift(len(obj))\n",
    "    else:\n",
    "        return obj*Ty(22.208)*Tx(20.705) + shift(len(obj))\n",
    "\n"
   ]
  },
  {
   "cell_type": "code",
   "execution_count": 9,
   "id": "b5d5dc7c",
   "metadata": {
    "scrolled": true
   },
   "outputs": [],
   "source": [
    "def bez3(u,x):\n",
    "    U = np.matrix([u**3, u**2, u, 1])\n",
    "    M = np.matrix([[-1, 3, -3, 1],\n",
    "                   [3, -6, 3, 0],\n",
    "                   [-3, 3, 0, 0],\n",
    "                   [1, 0, 0, 0]])\n",
    "    return U*M*x\n",
    "    \n",
    "x = np.matrix([[0,0,0,1],\n",
    "              [3,3,0,1],\n",
    "              [2,4,0,1],\n",
    "              [5,9,0,1]])\n",
    "\n",
    "\n",
    "        \n",
    "def bez_u(x, length = 100):\n",
    "    p = []\n",
    "    for i in range(length+1):\n",
    "        if i == 0:\n",
    "            p = (bez3(i/length, x))\n",
    "        else:\n",
    "            p = np.vstack([p, (bez3(i/length, x))])\n",
    "        \n",
    "    return p\n",
    "    \n",
    "    \n",
    "def draw_bez(p, canvas, x, period = 40, mode = \"iso\"):\n",
    "    p = p*period\n",
    "    p = p*Tx(180)\n",
    "    p = metric(p, mode)\n",
    "    \n",
    "    for i in range(len(p)-1):\n",
    "        canvas.create_line(p[i, 0],p[i, 1],p[i+1, 0],p[i+1, 1],width=2,fill=\"red\")\n",
    "    \n",
    "    r = period/10\n",
    "    x = x*period\n",
    "    x = x*Tx(180)\n",
    "    x = metric(x, mode)\n",
    "    for i in range(len(x)):\n",
    "        canvas.create_oval(x[i, 0]-r, x[i, 1]-r, x[i, 0]+r, x[i, 1]+r)\n",
    "        if i < len(x)-1:\n",
    "            canvas.create_line(x[i, 0],x[i, 1],x[i+1, 0],x[i+1, 1],width=1,fill=\"gray\", dash=(4, 2))\n",
    "        canvas.create_text(x[i, 0]+8, x[i, 1], text = str(i), font=(\"DejavuSansLight\", 15,'bold'))\n",
    "    \n",
    "    \n",
    "    "
   ]
  },
  {
   "cell_type": "code",
   "execution_count": null,
   "id": "fd29f9fc",
   "metadata": {},
   "outputs": [],
   "source": [
    "def middle_line()"
   ]
  },
  {
   "cell_type": "code",
   "execution_count": 11,
   "id": "3b6cbbbd",
   "metadata": {},
   "outputs": [],
   "source": [
    "p = bez_u(x)\n",
    "\n",
    "window = tk.Tk()\n",
    "window.title('Работа с canvas')\n",
    "\n",
    "canvas = tk.Canvas(window,width=width,height=height,bg=\"white\",\n",
    "          cursor=\"pencil\")\n",
    "##########################################\n",
    "\n",
    "draw_XYZ(canvas, height/2, period = 50)\n",
    "draw_bez(p, canvas, x, period = 50)\n",
    "############################################\n",
    "canvas.pack()\n",
    "window.mainloop()\n",
    "\n"
   ]
  },
  {
   "cell_type": "code",
   "execution_count": null,
   "id": "a684d2a2",
   "metadata": {},
   "outputs": [],
   "source": [
    "def picture(mode = \"iso\"):\n",
    "    window = tk.Tk()\n",
    "    window.title('Работа с canvas')\n",
    "\n",
    "    canvas = tk.Canvas(window,width=width,height=height,bg=\"white\",\n",
    "              cursor=\"pencil\")\n",
    "    ##########################################\n",
    "\n",
    "    draw_XYZ(canvas, height/2, mode=mode, period = 30)\n",
    "    draw_cat(canvas, mode=mode, period = 30)\n",
    "    ############################################\n",
    "    canvas.pack()\n",
    "    window.mainloop()"
   ]
  },
  {
   "cell_type": "code",
   "execution_count": null,
   "id": "43005200",
   "metadata": {},
   "outputs": [],
   "source": [
    "root = tk.Tk()\n",
    "btn = tk.Button(root, text=\"Диметрическая проекция\")\n",
    "btn.config(command=lambda: picture(\"dim\"))\n",
    "btn.pack(padx=120, pady=30)\n",
    "\n",
    "btn = tk.Button(root, text=\"Изометрическая проекция\")\n",
    "btn.config(command=lambda: picture(\"iso\"))\n",
    "btn.pack(padx=240, pady=30)\n",
    "\n",
    "root.title(\"Проекции\")\n",
    "root.mainloop()\n"
   ]
  },
  {
   "cell_type": "code",
   "execution_count": null,
   "id": "6306c671",
   "metadata": {},
   "outputs": [],
   "source": []
  }
 ],
 "metadata": {
  "kernelspec": {
   "display_name": "Python 3 (ipykernel)",
   "language": "python",
   "name": "python3"
  },
  "language_info": {
   "codemirror_mode": {
    "name": "ipython",
    "version": 3
   },
   "file_extension": ".py",
   "mimetype": "text/x-python",
   "name": "python",
   "nbconvert_exporter": "python",
   "pygments_lexer": "ipython3",
   "version": "3.8.10"
  }
 },
 "nbformat": 4,
 "nbformat_minor": 5
}
